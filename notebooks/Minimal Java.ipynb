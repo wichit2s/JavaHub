{
 "cells": [
  {
   "cell_type": "markdown",
   "metadata": {},
   "source": [
    "# Minimal Java (Java เท่าที่จำเป็น)\n",
    "###### @wichit2s #####\n",
    "\n",
    "สมุดบันทึกเพื่อรวบรวมสิ่งที่เรียนมาเป็นปีให้เหลือแค่ไม่กี่หน้า\n",
    "\n",
    "## What is Java?\n",
    "\n",
    "## The main concepts?\n",
    "\n",
    "## Class & Object\n",
    "\n"
   ]
  }
 ],
 "metadata": {
  "kernelspec": {
   "display_name": "Python 3",
   "language": "python",
   "name": "python3"
  },
  "language_info": {
   "codemirror_mode": {
    "name": "ipython",
    "version": 3
   },
   "file_extension": ".py",
   "mimetype": "text/x-python",
   "name": "python",
   "nbconvert_exporter": "python",
   "pygments_lexer": "ipython3",
   "version": "3.5.2"
  }
 },
 "nbformat": 4,
 "nbformat_minor": 2
}
